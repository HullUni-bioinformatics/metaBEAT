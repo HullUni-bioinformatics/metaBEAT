{
 "cells": [
  {
   "cell_type": "markdown",
   "metadata": {},
   "source": [
    "##Adding sample metadata to BIOM table."
   ]
  },
  {
   "cell_type": "markdown",
   "metadata": {},
   "source": [
    "Import functions. Functions are in place as of version '0.97.4-global' (commit: 9110e5a3f4a979e85733f83cb0388b00586544f6)."
   ]
  },
  {
   "cell_type": "code",
   "execution_count": 1,
   "metadata": {
    "collapsed": true
   },
   "outputs": [],
   "source": [
    "import metaBEAT_global_misc_functions as mb"
   ]
  },
  {
   "cell_type": "markdown",
   "metadata": {},
   "source": [
    "Get example files.\n",
    "\n",
    " - `kraken.biom` - taxonomy annotated OTU table in json format as produced by metaBEAT\n",
    " - `metadata_for_kraken.csv` - csv file containing metadata to be added to table"
   ]
  },
  {
   "cell_type": "code",
   "execution_count": 2,
   "metadata": {
    "collapsed": false
   },
   "outputs": [
    {
     "name": "stdout",
     "output_type": "stream",
     "text": [
      "Sample,Forest,Species,Replicate\r\n",
      "THB_BET.kraken,Thetford,Betula_pendula,TH_BET\r\n",
      "THA_OAK.kraken,Thetford,Quercus_robur,TH_OAK\r\n",
      "THC_OAK.kraken,Thetford,Quercus_robur,TH_OAK\r\n",
      "THA_BEE.kraken,Thetford,Fagus_sylvatica,TH_BEE\r\n",
      "BWB_BEE.kraken,Bishops_Wood,Fagus_sylvatica,BW_BEE\r\n",
      "BWC_OAK.kraken,Bishops_Wood,Quercus_robur,BW_OAK\r\n",
      "BWC_BEE.kraken,Bishops_Wood,Fagus_sylvatica,BW_BEE\r\n",
      "BWA_BET.kraken,Bishops_Wood,Betula_pendula,BW_BET\r\n",
      "AHC_HAZ.kraken,Alice_Holt,Corylus_avellana,AH_HAZ\r\n"
     ]
    }
   ],
   "source": [
    "!head metadata_for_kraken.csv"
   ]
  },
  {
   "cell_type": "markdown",
   "metadata": {},
   "source": [
    "Given that you've got a metadata table in csv format and a BIOM table in json format you can genenerate a new annotated table, like so."
   ]
  },
  {
   "cell_type": "code",
   "execution_count": 3,
   "metadata": {
    "collapsed": false
   },
   "outputs": [
    {
     "name": "stdout",
     "output_type": "stream",
     "text": [
      "\n",
      "Specified BIOM input format 'json' - ok!\n",
      "Loading BIOM table - ok!\n",
      "\n",
      "provided metadata in file: metadata_for_kraken.csv - ok!\n",
      " \n",
      "Checking metadata against table - ok!\n",
      "\n",
      "Checking metadata - ok!\n",
      "adding metadata to: AHA_ASH.kraken\n",
      "adding metadata to: AHA_BEE.kraken\n",
      "adding metadata to: AHA_BET.kraken\n",
      "adding metadata to: AHA_HAZ.kraken\n",
      "adding metadata to: AHA_OAK.kraken\n",
      "adding metadata to: AHB_ASH.kraken\n",
      "adding metadata to: AHB_BEE.kraken\n",
      "adding metadata to: AHB_BET.kraken\n",
      "adding metadata to: AHB_OAK.kraken\n",
      "adding metadata to: AHC_ASH.kraken\n",
      "adding metadata to: AHC_BET.kraken\n",
      "adding metadata to: AHC_HAZ.kraken\n",
      "adding metadata to: AHC_OAK.kraken\n",
      "adding metadata to: BWA_ASH.kraken\n",
      "adding metadata to: BWA_BEE.kraken\n",
      "adding metadata to: BWA_BET.kraken\n",
      "adding metadata to: BWA_HAZ.kraken\n",
      "adding metadata to: BWA_OAK.kraken\n",
      "adding metadata to: BWB_ASH.kraken\n",
      "adding metadata to: BWB_BEE.kraken\n",
      "adding metadata to: BWB_BET.kraken\n",
      "adding metadata to: BWB_HAZ.kraken\n",
      "adding metadata to: BWB_OAK.kraken\n",
      "adding metadata to: BWC_ASH.kraken\n",
      "adding metadata to: BWC_BEE.kraken\n",
      "adding metadata to: BWC_BET.kraken\n",
      "adding metadata to: BWC_HAZ.kraken\n",
      "adding metadata to: BWC_OAK.kraken\n",
      "adding metadata to: THA_ASH.kraken\n",
      "adding metadata to: THA_BEE.kraken\n",
      "adding metadata to: THA_BET.kraken\n",
      "adding metadata to: THA_OAK.kraken\n",
      "adding metadata to: THB_ASH.kraken\n",
      "adding metadata to: THB_BEE.kraken\n",
      "adding metadata to: THB_BET.kraken\n",
      "adding metadata to: THB_OAK.kraken\n",
      "adding metadata to: THC_ASH.kraken\n",
      "adding metadata to: THC_BEE.kraken\n",
      "adding metadata to: THC_OAK.kraken\n",
      "Adding metadata - ok!\n",
      "\n",
      "Writing 'kraken_w_metadata.biom'\n",
      "Writing 'kraken_w_metadata.tsv'\n",
      "Writing to files - ok\n",
      "\n"
     ]
    }
   ],
   "source": [
    "mb.add_sample_metadata_to_BIOM_file(BIOM_file='kraken.biom', informat='json', metadata_csv='metadata_for_kraken.csv', \n",
    "                                 outformat=['json','tsv'], outprefix='kraken_w_metadata', v=True)"
   ]
  },
  {
   "cell_type": "markdown",
   "metadata": {
    "collapsed": true
   },
   "source": [
    "The file '`kraken_w_metadata.biom`' works with [Phinch](http://phinch.org/index.html)."
   ]
  },
  {
   "cell_type": "markdown",
   "metadata": {},
   "source": [
    "The above function actually wraps up a bunch of functions. In case you want to know what's going on, see below."
   ]
  },
  {
   "cell_type": "markdown",
   "metadata": {},
   "source": [
    "Load table."
   ]
  },
  {
   "cell_type": "code",
   "execution_count": 4,
   "metadata": {
    "collapsed": false
   },
   "outputs": [
    {
     "name": "stdout",
     "output_type": "stream",
     "text": [
      "\n",
      "Specified BIOM input format 'json' - ok!\n"
     ]
    }
   ],
   "source": [
    "example_table = mb.load_BIOM('kraken.biom', informat='json')\n"
   ]
  },
  {
   "cell_type": "code",
   "execution_count": 5,
   "metadata": {
    "collapsed": false
   },
   "outputs": [],
   "source": [
    "#check if we got a table with no sample metadata\n",
    "#print example_table.metadata(axis='sample')"
   ]
  },
  {
   "cell_type": "markdown",
   "metadata": {},
   "source": [
    "Check metadata csv file."
   ]
  },
  {
   "cell_type": "code",
   "execution_count": 6,
   "metadata": {
    "collapsed": false
   },
   "outputs": [
    {
     "name": "stdout",
     "output_type": "stream",
     "text": [
      "\n",
      "provided metadata in file: metadata_for_kraken.csv - ok!\n",
      " \n",
      "Checking metadata against table - ok!\n",
      "\n"
     ]
    }
   ],
   "source": [
    "metadat = mb.check_metadata_csv(in_csv='metadata_for_kraken.csv', BIOM=example_table)\n"
   ]
  },
  {
   "cell_type": "code",
   "execution_count": 7,
   "metadata": {
    "collapsed": false
   },
   "outputs": [],
   "source": [
    "#check if metadata was parsed ok\n",
    "#print metadat"
   ]
  },
  {
   "cell_type": "markdown",
   "metadata": {},
   "source": [
    "Add metadata to biom object."
   ]
  },
  {
   "cell_type": "code",
   "execution_count": 8,
   "metadata": {
    "collapsed": false
   },
   "outputs": [
    {
     "name": "stdout",
     "output_type": "stream",
     "text": [
      "adding metadata to: AHA_ASH.kraken\n",
      "adding metadata to: AHA_BEE.kraken\n",
      "adding metadata to: AHA_BET.kraken\n",
      "adding metadata to: AHA_HAZ.kraken\n",
      "adding metadata to: AHA_OAK.kraken\n",
      "adding metadata to: AHB_ASH.kraken\n",
      "adding metadata to: AHB_BEE.kraken\n",
      "adding metadata to: AHB_BET.kraken\n",
      "adding metadata to: AHB_OAK.kraken\n",
      "adding metadata to: AHC_ASH.kraken\n",
      "adding metadata to: AHC_BET.kraken\n",
      "adding metadata to: AHC_HAZ.kraken\n",
      "adding metadata to: AHC_OAK.kraken\n",
      "adding metadata to: BWA_ASH.kraken\n",
      "adding metadata to: BWA_BEE.kraken\n",
      "adding metadata to: BWA_BET.kraken\n",
      "adding metadata to: BWA_HAZ.kraken\n",
      "adding metadata to: BWA_OAK.kraken\n",
      "adding metadata to: BWB_ASH.kraken\n",
      "adding metadata to: BWB_BEE.kraken\n",
      "adding metadata to: BWB_BET.kraken\n",
      "adding metadata to: BWB_HAZ.kraken\n",
      "adding metadata to: BWB_OAK.kraken\n",
      "adding metadata to: BWC_ASH.kraken\n",
      "adding metadata to: BWC_BEE.kraken\n",
      "adding metadata to: BWC_BET.kraken\n",
      "adding metadata to: BWC_HAZ.kraken\n",
      "adding metadata to: BWC_OAK.kraken\n",
      "adding metadata to: THA_ASH.kraken\n",
      "adding metadata to: THA_BEE.kraken\n",
      "adding metadata to: THA_BET.kraken\n",
      "adding metadata to: THA_OAK.kraken\n",
      "adding metadata to: THB_ASH.kraken\n",
      "adding metadata to: THB_BEE.kraken\n",
      "adding metadata to: THB_BET.kraken\n",
      "adding metadata to: THB_OAK.kraken\n",
      "adding metadata to: THC_ASH.kraken\n",
      "adding metadata to: THC_BEE.kraken\n",
      "adding metadata to: THC_OAK.kraken\n"
     ]
    }
   ],
   "source": [
    "example_table_w_metadata = mb.add_sample_metadata_to_biom(in_table=example_table, metadata=metadat, v=1)"
   ]
  },
  {
   "cell_type": "code",
   "execution_count": 9,
   "metadata": {
    "collapsed": false
   },
   "outputs": [],
   "source": [
    "#Double check that we've got sample metadata now\n",
    "#print example_table_w_metadata.metadata(axis='sample')"
   ]
  },
  {
   "cell_type": "markdown",
   "metadata": {},
   "source": [
    "Write annotated table to file."
   ]
  },
  {
   "cell_type": "code",
   "execution_count": 10,
   "metadata": {
    "collapsed": false
   },
   "outputs": [
    {
     "name": "stdout",
     "output_type": "stream",
     "text": [
      "Writing 'outtable_slow.biom'\n",
      "Writing 'outtable_slow.tsv'\n"
     ]
    }
   ],
   "source": [
    "mb.write_BIOM(BIOM=example_table_w_metadata, target_prefix='outtable_slow', outfmt=['json','tsv'])"
   ]
  },
  {
   "cell_type": "code",
   "execution_count": null,
   "metadata": {
    "collapsed": true
   },
   "outputs": [],
   "source": []
  }
 ],
 "metadata": {
  "kernelspec": {
   "display_name": "Python 2",
   "language": "python",
   "name": "python2"
  },
  "language_info": {
   "codemirror_mode": {
    "name": "ipython",
    "version": 2
   },
   "file_extension": ".py",
   "mimetype": "text/x-python",
   "name": "python",
   "nbconvert_exporter": "python",
   "pygments_lexer": "ipython2",
   "version": "2.7.6"
  }
 },
 "nbformat": 4,
 "nbformat_minor": 0
}
