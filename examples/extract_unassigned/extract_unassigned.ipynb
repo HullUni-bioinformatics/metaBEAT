{
 "cells": [
  {
   "cell_type": "markdown",
   "metadata": {},
   "source": [
    "## Prepare unassigned OTUs for re-analysis"
   ]
  },
  {
   "cell_type": "markdown",
   "metadata": {},
   "source": [
    "Based on the results of a metaBEAT run, generate a new BIOM table containing only OTUs that were not assigned with a taxonomy and prepare a fasta file with the corresponding sequences in it."
   ]
  },
  {
   "cell_type": "markdown",
   "metadata": {},
   "source": [
    "Example files:\n",
    "\n",
    "- `global_queries.fasta` - fasta file containing all query sequences (global centroids), as produced by e.g. an initial metaBEAT run\n",
    "- `test-OTU-taxonomy.biom` - taxonomy annotated OTU biom table in json format from a metaBEAT run. Not the taxonomy collapsed BIOM table. "
   ]
  },
  {
   "cell_type": "markdown",
   "metadata": {},
   "source": [
    "Load the necessary functions. Functions are in place as of version '0.97.4-global' (commit: 9110e5a3f4a979e85733f83cb0388b00586544f6)."
   ]
  },
  {
   "cell_type": "code",
   "execution_count": 2,
   "metadata": {
    "collapsed": true
   },
   "outputs": [],
   "source": [
    "import metaBEAT_global_misc_functions as mb"
   ]
  },
  {
   "cell_type": "markdown",
   "metadata": {},
   "source": [
    "Read in BIOM file."
   ]
  },
  {
   "cell_type": "code",
   "execution_count": 3,
   "metadata": {
    "collapsed": false
   },
   "outputs": [
    {
     "name": "stdout",
     "output_type": "stream",
     "text": [
      "\n",
      "Specified BIOM input format 'json' - ok!\n"
     ]
    }
   ],
   "source": [
    "table = mb.load_BIOM('test-OTU-taxonomy.biom', informat='json')"
   ]
  },
  {
   "cell_type": "code",
   "execution_count": 4,
   "metadata": {
    "collapsed": false
   },
   "outputs": [],
   "source": [
    "#double check that we've got a table\n",
    "#print table"
   ]
  },
  {
   "cell_type": "markdown",
   "metadata": {},
   "source": [
    "Extract only OTUs that were not assigned to a taxonomy - i.e. 'unassigned'."
   ]
  },
  {
   "cell_type": "code",
   "execution_count": 5,
   "metadata": {
    "collapsed": false
   },
   "outputs": [
    {
     "name": "stdout",
     "output_type": "stream",
     "text": [
      "Found taxonomy metadata with OTUs - ok!\n"
     ]
    }
   ],
   "source": [
    "unassigned_table = mb.BIOM_return_by_tax_level(taxlevel='unassigned', BIOM=table, invert=False)"
   ]
  },
  {
   "cell_type": "code",
   "execution_count": 7,
   "metadata": {
    "collapsed": false
   },
   "outputs": [],
   "source": [
    "#check metadata in new table to see if we only got the unassigned bits\n",
    "#print unassigned_table.metadata(axis='observation')"
   ]
  },
  {
   "cell_type": "markdown",
   "metadata": {},
   "source": [
    "Extract only the sequences mentioned in the table."
   ]
  },
  {
   "cell_type": "code",
   "execution_count": 6,
   "metadata": {
    "collapsed": false
   },
   "outputs": [
    {
     "name": "stdout",
     "output_type": "stream",
     "text": [
      "Looking to extract 647 sequences\n",
      "Parsing global_queries.fasta\n",
      "identified 647 target sequences .. OK!\n",
      "Writing sequences to file: unassigned_only.fasta\n"
     ]
    }
   ],
   "source": [
    "mb.extract_fasta_by_BIOM_OTU_ids(in_fasta='global_queries.fasta', \n",
    "                                 BIOM=unassigned_table, \n",
    "                                 out_fasta='unassigned_only.fasta')"
   ]
  },
  {
   "cell_type": "markdown",
   "metadata": {},
   "source": [
    "Remove taxonomy metadata from table. If you want to use the table as input for another metaBEAT run this needs to be done."
   ]
  },
  {
   "cell_type": "code",
   "execution_count": 7,
   "metadata": {
    "collapsed": false
   },
   "outputs": [],
   "source": [
    "unassigned_table_notax = mb.drop_BIOM_taxonomy(unassigned_table)"
   ]
  },
  {
   "cell_type": "code",
   "execution_count": 8,
   "metadata": {
    "collapsed": false
   },
   "outputs": [],
   "source": [
    "#double check that the taxonomy is gone\n",
    "#print unassigned_table_notax.metadata(axis='observation')"
   ]
  },
  {
   "cell_type": "markdown",
   "metadata": {},
   "source": [
    "Write reduced table without taxonomy metadata, i.e. denovo table, to file."
   ]
  },
  {
   "cell_type": "code",
   "execution_count": 9,
   "metadata": {
    "collapsed": false
   },
   "outputs": [
    {
     "name": "stdout",
     "output_type": "stream",
     "text": [
      "Writing 'unassigned_only_denovo.biom'\n",
      "Writing 'unassigned_only_denovo.tsv'\n"
     ]
    }
   ],
   "source": [
    "mb.write_BIOM(BIOM=unassigned_table_notax, target_prefix='unassigned_only_denovo', outfmt=['json','tsv'])"
   ]
  },
  {
   "cell_type": "markdown",
   "metadata": {},
   "source": [
    "The files '`unassigned_only_denovo.biom`' and '`unassigned_only.fasta`' can be used as input for new metaBEAT run.\n",
    "\n",
    "For a BLAST search of records against full Genbank, e.g.:\n",
    "```bash\n",
    "!metaBEAT_global.py \\\n",
    "-B unassigned_only_denovo.biom \\\n",
    "--g_queries unassigned_only.fasta \\\n",
    "--blast --blast_db ~/path/to/your/nt --min_ident 0.85 \\\n",
    "-o unassigned_only &> log\n",
    "```"
   ]
  },
  {
   "cell_type": "code",
   "execution_count": null,
   "metadata": {
    "collapsed": true
   },
   "outputs": [],
   "source": []
  }
 ],
 "metadata": {
  "kernelspec": {
   "display_name": "Python 2",
   "language": "python",
   "name": "python2"
  },
  "language_info": {
   "codemirror_mode": {
    "name": "ipython",
    "version": 2
   },
   "file_extension": ".py",
   "mimetype": "text/x-python",
   "name": "python",
   "nbconvert_exporter": "python",
   "pygments_lexer": "ipython2",
   "version": "2.7.6"
  }
 },
 "nbformat": 4,
 "nbformat_minor": 0
}
